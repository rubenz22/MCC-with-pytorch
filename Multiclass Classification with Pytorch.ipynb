{
 "cells": [
  {
   "cell_type": "code",
   "execution_count": 1,
   "id": "21385e0d",
   "metadata": {},
   "outputs": [
    {
     "data": {
      "text/plain": [
       "device(type='cuda', index=0)"
      ]
     },
     "execution_count": 1,
     "metadata": {},
     "output_type": "execute_result"
    }
   ],
   "source": [
    "# pip install jcopdl if you haven't already installed it\n",
    "\n",
    "from sklearn.datasets import load_iris\n",
    "from sklearn.model_selection import train_test_split\n",
    "\n",
    "import torch\n",
    "from torch import nn, optim\n",
    "from jcopdl.callback import Callback\n",
    "\n",
    "device = torch.device(\"cuda:0\" if torch.cuda.is_available() else \"cpu\")\n",
    "device"
   ]
  },
  {
   "cell_type": "markdown",
   "id": "f7b86b03",
   "metadata": {},
   "source": [
    "# Import Data"
   ]
  },
  {
   "cell_type": "code",
   "execution_count": 2,
   "id": "124ee5a6",
   "metadata": {},
   "outputs": [],
   "source": [
    "df = load_iris(as_frame=True)['frame']"
   ]
  },
  {
   "cell_type": "code",
   "execution_count": 3,
   "id": "45d254f9",
   "metadata": {},
   "outputs": [
    {
     "data": {
      "text/html": [
       "<div>\n",
       "<style scoped>\n",
       "    .dataframe tbody tr th:only-of-type {\n",
       "        vertical-align: middle;\n",
       "    }\n",
       "\n",
       "    .dataframe tbody tr th {\n",
       "        vertical-align: top;\n",
       "    }\n",
       "\n",
       "    .dataframe thead th {\n",
       "        text-align: right;\n",
       "    }\n",
       "</style>\n",
       "<table border=\"1\" class=\"dataframe\">\n",
       "  <thead>\n",
       "    <tr style=\"text-align: right;\">\n",
       "      <th></th>\n",
       "      <th>sepal length (cm)</th>\n",
       "      <th>sepal width (cm)</th>\n",
       "      <th>petal length (cm)</th>\n",
       "      <th>petal width (cm)</th>\n",
       "      <th>target</th>\n",
       "    </tr>\n",
       "  </thead>\n",
       "  <tbody>\n",
       "    <tr>\n",
       "      <th>0</th>\n",
       "      <td>5.1</td>\n",
       "      <td>3.5</td>\n",
       "      <td>1.4</td>\n",
       "      <td>0.2</td>\n",
       "      <td>0</td>\n",
       "    </tr>\n",
       "    <tr>\n",
       "      <th>1</th>\n",
       "      <td>4.9</td>\n",
       "      <td>3.0</td>\n",
       "      <td>1.4</td>\n",
       "      <td>0.2</td>\n",
       "      <td>0</td>\n",
       "    </tr>\n",
       "    <tr>\n",
       "      <th>2</th>\n",
       "      <td>4.7</td>\n",
       "      <td>3.2</td>\n",
       "      <td>1.3</td>\n",
       "      <td>0.2</td>\n",
       "      <td>0</td>\n",
       "    </tr>\n",
       "    <tr>\n",
       "      <th>3</th>\n",
       "      <td>4.6</td>\n",
       "      <td>3.1</td>\n",
       "      <td>1.5</td>\n",
       "      <td>0.2</td>\n",
       "      <td>0</td>\n",
       "    </tr>\n",
       "    <tr>\n",
       "      <th>4</th>\n",
       "      <td>5.0</td>\n",
       "      <td>3.6</td>\n",
       "      <td>1.4</td>\n",
       "      <td>0.2</td>\n",
       "      <td>0</td>\n",
       "    </tr>\n",
       "  </tbody>\n",
       "</table>\n",
       "</div>"
      ],
      "text/plain": [
       "   sepal length (cm)  sepal width (cm)  petal length (cm)  petal width (cm)  \\\n",
       "0                5.1               3.5                1.4               0.2   \n",
       "1                4.9               3.0                1.4               0.2   \n",
       "2                4.7               3.2                1.3               0.2   \n",
       "3                4.6               3.1                1.5               0.2   \n",
       "4                5.0               3.6                1.4               0.2   \n",
       "\n",
       "   target  \n",
       "0       0  \n",
       "1       0  \n",
       "2       0  \n",
       "3       0  \n",
       "4       0  "
      ]
     },
     "execution_count": 3,
     "metadata": {},
     "output_type": "execute_result"
    }
   ],
   "source": [
    "df.head()"
   ]
  },
  {
   "cell_type": "code",
   "execution_count": 4,
   "id": "3f922a38",
   "metadata": {},
   "outputs": [],
   "source": [
    "iris = load_iris()\n",
    "X = iris.data\n",
    "y = iris.target"
   ]
  },
  {
   "cell_type": "code",
   "execution_count": 5,
   "id": "e9e877fa",
   "metadata": {},
   "outputs": [
    {
     "data": {
      "text/plain": [
       "0    50\n",
       "1    50\n",
       "2    50\n",
       "Name: target, dtype: int64"
      ]
     },
     "execution_count": 5,
     "metadata": {},
     "output_type": "execute_result"
    }
   ],
   "source": [
    "df.target.value_counts()"
   ]
  },
  {
   "cell_type": "markdown",
   "id": "55c82590",
   "metadata": {},
   "source": [
    "# Dataset Splitting"
   ]
  },
  {
   "cell_type": "code",
   "execution_count": 6,
   "id": "4f27b7e0",
   "metadata": {},
   "outputs": [
    {
     "data": {
      "text/plain": [
       "((120, 4), (30, 4), (120,), (30,))"
      ]
     },
     "execution_count": 6,
     "metadata": {},
     "output_type": "execute_result"
    }
   ],
   "source": [
    "X_train, X_test, y_train, y_test = train_test_split(X, y, test_size=0.2, stratify=y, random_state=42)\n",
    "X_train.shape, X_test.shape, y_train.shape, y_test.shape"
   ]
  },
  {
   "cell_type": "markdown",
   "id": "93e3f1a5",
   "metadata": {},
   "source": [
    "# Dataset and Dataloader"
   ]
  },
  {
   "cell_type": "code",
   "execution_count": 7,
   "id": "739f5d83",
   "metadata": {},
   "outputs": [],
   "source": [
    "X_train = torch.FloatTensor(X_train).to(device)\n",
    "X_test = torch.FloatTensor(X_test).to(device)\n",
    "y_train = torch.LongTensor(y_train).to(device)\n",
    "y_test = torch.LongTensor(y_test).to(device)"
   ]
  },
  {
   "cell_type": "code",
   "execution_count": 8,
   "id": "04a0dd6f",
   "metadata": {},
   "outputs": [],
   "source": [
    "from torch.utils.data import DataLoader, TensorDataset"
   ]
  },
  {
   "cell_type": "code",
   "execution_count": 9,
   "id": "d5787ace",
   "metadata": {},
   "outputs": [],
   "source": [
    "train_set = TensorDataset(X_train, y_train)\n",
    "trainloader = DataLoader(train_set, batch_size=32, shuffle=True)\n",
    "\n",
    "test_set = TensorDataset(X_test, y_test)\n",
    "testloader = DataLoader(test_set, batch_size=32)"
   ]
  },
  {
   "cell_type": "code",
   "execution_count": 10,
   "id": "d79531e2",
   "metadata": {},
   "outputs": [
    {
     "data": {
      "text/plain": [
       "(torch.Size([120, 4]), torch.Size([120]))"
      ]
     },
     "execution_count": 10,
     "metadata": {},
     "output_type": "execute_result"
    }
   ],
   "source": [
    "X_train.shape, y_train.shape"
   ]
  },
  {
   "cell_type": "markdown",
   "id": "6a4e0a2f",
   "metadata": {},
   "source": [
    "# Arsitektur"
   ]
  },
  {
   "cell_type": "code",
   "execution_count": 11,
   "id": "1d7b850e",
   "metadata": {},
   "outputs": [],
   "source": [
    "from jcopdl.layers import linear_block"
   ]
  },
  {
   "cell_type": "code",
   "execution_count": 29,
   "id": "8ad60390",
   "metadata": {},
   "outputs": [],
   "source": [
    "class MCCIris(nn.Module):\n",
    "    def __init__(self, input_size, n1, output_size, dropout):\n",
    "        super().__init__()\n",
    "        self.fc = nn.Sequential(\n",
    "            linear_block(input_size, n1, activation='sigmoid', dropout=dropout),\n",
    "            linear_block(n1, output_size, activation='lsoftmax')\n",
    "        )\n",
    "    def forward(self, x):\n",
    "        return self.fc(x)  "
   ]
  },
  {
   "cell_type": "markdown",
   "id": "b58246a4",
   "metadata": {},
   "source": [
    "# Training Preparation -> MCOC"
   ]
  },
  {
   "cell_type": "code",
   "execution_count": 36,
   "id": "ec24b527",
   "metadata": {},
   "outputs": [],
   "source": [
    "model = MCCIris(4, 6, 3, 0.2).to(device)\n",
    "criterion = nn.NLLLoss()\n",
    "optimizer = optim.AdamW(model.parameters(), lr=0.1)\n",
    "callback = Callback(model, outdir='modelMCCIris')"
   ]
  },
  {
   "cell_type": "markdown",
   "id": "a063752c",
   "metadata": {},
   "source": [
    "# Training"
   ]
  },
  {
   "cell_type": "code",
   "execution_count": 37,
   "id": "c2b03e74",
   "metadata": {},
   "outputs": [],
   "source": [
    "from tqdm import tqdm \n",
    "\n",
    "def loop_fn(mode, dataset, dataloader, model, criterion, optimizer, device):\n",
    "    if mode == 'train':\n",
    "        model.train()\n",
    "    elif mode == 'test':\n",
    "        model.eval()\n",
    "    cost = correct = 0\n",
    "    for feature, target in tqdm(dataloader, desc=mode.title()): \n",
    "        feature, target = feature.to(device), target.to(device)\n",
    "        output = model(feature)\n",
    "        loss = criterion(output, target)\n",
    "        \n",
    "        if mode == 'train':\n",
    "            loss.backward()\n",
    "            optimizer.step()\n",
    "            optimizer.zero_grad()\n",
    "            \n",
    "        cost += loss.item() * feature.shape[0]\n",
    "        correct += (output.argmax(1) == target).sum().item()\n",
    "    cost = cost / len(dataset)\n",
    "    acc = correct / len(dataset)\n",
    "    return cost, acc"
   ]
  },
  {
   "cell_type": "code",
   "execution_count": 38,
   "id": "b365c54b",
   "metadata": {},
   "outputs": [
    {
     "name": "stderr",
     "output_type": "stream",
     "text": [
      "Train: 100%|████████████████████████████████████████████████████████████████████████████| 4/4 [00:00<00:00, 191.95it/s]\n",
      "Test: 100%|██████████████████████████████████████████████████████████████████████████████████████| 1/1 [00:00<?, ?it/s]\n"
     ]
    },
    {
     "name": "stdout",
     "output_type": "stream",
     "text": [
      "\n",
      "Epoch     1\n",
      "Train_cost  = 1.0707 | Test_cost  = 0.9434 | Train_score = 0.4333 | Test_score = 0.6000 |\n"
     ]
    },
    {
     "name": "stderr",
     "output_type": "stream",
     "text": [
      "Train: 100%|████████████████████████████████████████████████████████████████████████████| 4/4 [00:00<00:00, 116.24it/s]\n",
      "Test: 100%|██████████████████████████████████████████████████████████████████████████████████████| 1/1 [00:00<?, ?it/s]\n"
     ]
    },
    {
     "name": "stdout",
     "output_type": "stream",
     "text": [
      "\n",
      "Epoch     2\n",
      "Train_cost  = 0.9139 | Test_cost  = 0.7187 | Train_score = 0.6083 | Test_score = 0.6667 |\n"
     ]
    },
    {
     "name": "stderr",
     "output_type": "stream",
     "text": [
      "Train: 100%|████████████████████████████████████████████████████████████████████████████| 4/4 [00:00<00:00, 293.38it/s]\n",
      "Test: 100%|█████████████████████████████████████████████████████████████████████████████| 1/1 [00:00<00:00, 195.72it/s]\n"
     ]
    },
    {
     "name": "stdout",
     "output_type": "stream",
     "text": [
      "\n",
      "Epoch     3\n",
      "Train_cost  = 0.7221 | Test_cost  = 0.5672 | Train_score = 0.5667 | Test_score = 0.7333 |\n"
     ]
    },
    {
     "name": "stderr",
     "output_type": "stream",
     "text": [
      "Train: 100%|████████████████████████████████████████████████████████████████████████████| 4/4 [00:00<00:00, 198.40it/s]\n",
      "Test: 100%|█████████████████████████████████████████████████████████████████████████████| 1/1 [00:00<00:00, 193.38it/s]\n"
     ]
    },
    {
     "name": "stdout",
     "output_type": "stream",
     "text": [
      "\n",
      "Epoch     4\n",
      "Train_cost  = 0.6087 | Test_cost  = 0.4950 | Train_score = 0.6250 | Test_score = 0.7667 |\n"
     ]
    },
    {
     "name": "stderr",
     "output_type": "stream",
     "text": [
      "Train: 100%|████████████████████████████████████████████████████████████████████████████| 4/4 [00:00<00:00, 214.12it/s]\n",
      "Test: 100%|██████████████████████████████████████████████████████████████████████████████████████| 1/1 [00:00<?, ?it/s]\n"
     ]
    },
    {
     "name": "stdout",
     "output_type": "stream",
     "text": [
      "\n",
      "Epoch     5\n",
      "Train_cost  = 0.5115 | Test_cost  = 0.4591 | Train_score = 0.7917 | Test_score = 0.7667 |\n",
      "\u001b[31m==> EarlyStop patience =  1 | Best test_score: 0.7667\u001b[0m\n"
     ]
    },
    {
     "name": "stderr",
     "output_type": "stream",
     "text": [
      "Train: 100%|████████████████████████████████████████████████████████████████████████████| 4/4 [00:00<00:00, 207.46it/s]\n",
      "Test: 100%|██████████████████████████████████████████████████████████████████████████████████████| 1/1 [00:00<?, ?it/s]\n"
     ]
    },
    {
     "name": "stdout",
     "output_type": "stream",
     "text": [
      "\n",
      "Epoch     6\n",
      "Train_cost  = 0.5033 | Test_cost  = 0.4187 | Train_score = 0.8083 | Test_score = 0.9000 |\n"
     ]
    },
    {
     "name": "stderr",
     "output_type": "stream",
     "text": [
      "Train: 100%|████████████████████████████████████████████████████████████████████████████| 4/4 [00:00<00:00, 258.04it/s]\n",
      "Test: 100%|██████████████████████████████████████████████████████████████████████████████| 1/1 [00:00<00:00, 76.07it/s]\n"
     ]
    },
    {
     "name": "stdout",
     "output_type": "stream",
     "text": [
      "\n",
      "Epoch     7\n",
      "Train_cost  = 0.4894 | Test_cost  = 0.3781 | Train_score = 0.8083 | Test_score = 0.9000 |\n",
      "\u001b[31m==> EarlyStop patience =  1 | Best test_score: 0.9000\u001b[0m\n"
     ]
    },
    {
     "name": "stderr",
     "output_type": "stream",
     "text": [
      "Train: 100%|████████████████████████████████████████████████████████████████████████████| 4/4 [00:00<00:00, 293.51it/s]\n",
      "Test: 100%|██████████████████████████████████████████████████████████████████████████████| 1/1 [00:00<00:00, 63.78it/s]\n"
     ]
    },
    {
     "name": "stdout",
     "output_type": "stream",
     "text": [
      "\n",
      "Epoch     8\n",
      "Train_cost  = 0.4413 | Test_cost  = 0.3534 | Train_score = 0.8417 | Test_score = 0.9333 |\n"
     ]
    },
    {
     "name": "stderr",
     "output_type": "stream",
     "text": [
      "Train: 100%|████████████████████████████████████████████████████████████████████████████| 4/4 [00:00<00:00, 143.78it/s]\n",
      "Test: 100%|█████████████████████████████████████████████████████████████████████████████| 1/1 [00:00<00:00, 213.41it/s]\n"
     ]
    },
    {
     "name": "stdout",
     "output_type": "stream",
     "text": [
      "\n",
      "Epoch     9\n",
      "Train_cost  = 0.3889 | Test_cost  = 0.2946 | Train_score = 0.8250 | Test_score = 0.9333 |\n",
      "\u001b[31m==> EarlyStop patience =  1 | Best test_score: 0.9333\u001b[0m\n"
     ]
    },
    {
     "name": "stderr",
     "output_type": "stream",
     "text": [
      "Train: 100%|████████████████████████████████████████████████████████████████████████████| 4/4 [00:00<00:00, 150.55it/s]\n",
      "Test: 100%|██████████████████████████████████████████████████████████████████████████████████████| 1/1 [00:00<?, ?it/s]\n"
     ]
    },
    {
     "name": "stdout",
     "output_type": "stream",
     "text": [
      "\n",
      "Epoch    10\n",
      "Train_cost  = 0.3445 | Test_cost  = 0.2691 | Train_score = 0.8750 | Test_score = 0.9333 |\n",
      "\u001b[31m==> EarlyStop patience =  2 | Best test_score: 0.9333\u001b[0m\n"
     ]
    },
    {
     "name": "stderr",
     "output_type": "stream",
     "text": [
      "Train: 100%|████████████████████████████████████████████████████████████████████████████| 4/4 [00:00<00:00, 118.46it/s]\n",
      "Test: 100%|█████████████████████████████████████████████████████████████████████████████| 1/1 [00:00<00:00, 200.51it/s]\n"
     ]
    },
    {
     "name": "stdout",
     "output_type": "stream",
     "text": [
      "\n",
      "Epoch    11\n",
      "Train_cost  = 0.2826 | Test_cost  = 0.2196 | Train_score = 0.8833 | Test_score = 1.0000 |\n"
     ]
    },
    {
     "name": "stderr",
     "output_type": "stream",
     "text": [
      "Train: 100%|████████████████████████████████████████████████████████████████████████████| 4/4 [00:00<00:00, 269.97it/s]\n",
      "Test: 100%|██████████████████████████████████████████████████████████████████████████████| 1/1 [00:00<00:00, 66.67it/s]\n"
     ]
    },
    {
     "name": "stdout",
     "output_type": "stream",
     "text": [
      "\n",
      "Epoch    12\n",
      "Train_cost  = 0.3503 | Test_cost  = 0.2361 | Train_score = 0.8000 | Test_score = 0.9667 |\n",
      "\u001b[31m==> EarlyStop patience =  1 | Best test_score: 1.0000\u001b[0m\n"
     ]
    },
    {
     "name": "stderr",
     "output_type": "stream",
     "text": [
      "Train: 100%|████████████████████████████████████████████████████████████████████████████| 4/4 [00:00<00:00, 235.64it/s]\n",
      "Test: 100%|██████████████████████████████████████████████████████████████████████████████| 1/1 [00:00<00:00, 70.16it/s]\n"
     ]
    },
    {
     "name": "stdout",
     "output_type": "stream",
     "text": [
      "\n",
      "Epoch    13\n",
      "Train_cost  = 0.3094 | Test_cost  = 0.2003 | Train_score = 0.9000 | Test_score = 1.0000 |\n",
      "\u001b[31m==> EarlyStop patience =  2 | Best test_score: 1.0000\u001b[0m\n"
     ]
    },
    {
     "name": "stderr",
     "output_type": "stream",
     "text": [
      "Train: 100%|████████████████████████████████████████████████████████████████████████████| 4/4 [00:00<00:00, 226.72it/s]\n",
      "Test: 100%|██████████████████████████████████████████████████████████████████████████████████████| 1/1 [00:00<?, ?it/s]\n"
     ]
    },
    {
     "name": "stdout",
     "output_type": "stream",
     "text": [
      "\n",
      "Epoch    14\n",
      "Train_cost  = 0.2737 | Test_cost  = 0.1888 | Train_score = 0.8750 | Test_score = 0.9333 |\n",
      "\u001b[31m==> EarlyStop patience =  3 | Best test_score: 1.0000\u001b[0m\n"
     ]
    },
    {
     "name": "stderr",
     "output_type": "stream",
     "text": [
      "Train: 100%|████████████████████████████████████████████████████████████████████████████| 4/4 [00:00<00:00, 126.02it/s]\n",
      "Test: 100%|█████████████████████████████████████████████████████████████████████████████| 1/1 [00:00<00:00, 334.31it/s]\n"
     ]
    },
    {
     "name": "stdout",
     "output_type": "stream",
     "text": [
      "\n",
      "Epoch    15\n",
      "Train_cost  = 0.2435 | Test_cost  = 0.1702 | Train_score = 0.8833 | Test_score = 0.9667 |\n",
      "\u001b[31m==> EarlyStop patience =  4 | Best test_score: 1.0000\u001b[0m\n"
     ]
    },
    {
     "name": "stderr",
     "output_type": "stream",
     "text": [
      "Train: 100%|████████████████████████████████████████████████████████████████████████████| 4/4 [00:00<00:00, 104.68it/s]\n",
      "Test: 100%|█████████████████████████████████████████████████████████████████████████████| 1/1 [00:00<00:00, 264.19it/s]\n"
     ]
    },
    {
     "name": "stdout",
     "output_type": "stream",
     "text": [
      "\n",
      "Epoch    16\n",
      "Train_cost  = 0.2494 | Test_cost  = 0.1562 | Train_score = 0.9167 | Test_score = 1.0000 |\n",
      "\u001b[31m==> EarlyStop patience =  5 | Best test_score: 1.0000\u001b[0m\n",
      "\u001b[31m==> Execute Early Stopping at epoch: 16 | Best test_score: 1.0000\u001b[0m\n",
      "\u001b[31m==> Best model is saved at modelMCCIris\u001b[0m\n"
     ]
    },
    {
     "data": {
      "image/png": "[encoded data removed]",
      "text/plain": [
       "<Figure size 800x500 with 1 Axes>"
      ]
     },
     "metadata": {},
     "output_type": "display_data"
    },
    {
     "data": {
      "image/png": "[encoded data removed]",
      "text/plain": [
       "<Figure size 800x500 with 1 Axes>"
      ]
     },
     "metadata": {},
     "output_type": "display_data"
    }
   ],
   "source": [
    "while True:\n",
    "    train_cost, train_score = loop_fn('train', train_set, trainloader, model, criterion, optimizer, device)\n",
    "    with torch.no_grad():\n",
    "        test_cost, test_score = loop_fn('test', test_set, testloader, model, criterion, optimizer, device)\n",
    "    # logging\n",
    "    callback.log(train_cost, test_cost, train_score, test_score)\n",
    "    \n",
    "    # Checkpoint\n",
    "    callback.save_checkpoint()\n",
    "    \n",
    "    # RunTime Plotting\n",
    "    callback.cost_runtime_plotting()\n",
    "    callback.score_runtime_plotting()\n",
    "    \n",
    "    # Early Stopping\n",
    "    if callback.early_stopping(model, monitor='test_score'):\n",
    "        callback.plot_cost()\n",
    "        callback.plot_score()\n",
    "        break"
   ]
  },
  {
   "cell_type": "markdown",
   "id": "49fbfc8c",
   "metadata": {},
   "source": [
    "# Load best model"
   ]
  },
  {
   "cell_type": "code",
   "execution_count": 39,
   "id": "0ced9352",
   "metadata": {},
   "outputs": [],
   "source": [
    "weights = torch.load('modelMCCIris/weights_best.pth', map_location='cpu')\n",
    "\n",
    "model = MCCIris(4, 6, 3, 0.2).to(device)\n",
    "model.load_state_dict(weights)\n",
    "model = model.to(device)"
   ]
  },
  {
   "cell_type": "code",
   "execution_count": 40,
   "id": "8767509d",
   "metadata": {},
   "outputs": [
    {
     "data": {
      "text/plain": [
       "MCCIris(\n",
       "  (fc): Sequential(\n",
       "    (0): Sequential(\n",
       "      (0): Linear(in_features=4, out_features=6, bias=True)\n",
       "      (1): Sigmoid()\n",
       "      (2): Dropout(p=0.2, inplace=False)\n",
       "    )\n",
       "    (1): Sequential(\n",
       "      (0): Linear(in_features=6, out_features=3, bias=True)\n",
       "      (1): LogSoftmax(dim=1)\n",
       "    )\n",
       "  )\n",
       ")"
      ]
     },
     "execution_count": 40,
     "metadata": {},
     "output_type": "execute_result"
    }
   ],
   "source": [
    "model"
   ]
  },
  {
   "cell_type": "markdown",
   "id": "0a7ab9f1",
   "metadata": {},
   "source": [
    "# Predict"
   ]
  },
  {
   "cell_type": "code",
   "execution_count": 41,
   "id": "4eb8c2e8",
   "metadata": {},
   "outputs": [],
   "source": [
    "feature, target = next(iter(testloader))\n",
    "feature, target = feature.to(device), target.to(device)"
   ]
  },
  {
   "cell_type": "code",
   "execution_count": 42,
   "id": "77ca5654",
   "metadata": {},
   "outputs": [],
   "source": [
    "label = {0:'setosa', 1:'versicolor', 2:'virginica'}"
   ]
  },
  {
   "cell_type": "code",
   "execution_count": 43,
   "id": "3f1e3d48",
   "metadata": {},
   "outputs": [
    {
     "name": "stdout",
     "output_type": "stream",
     "text": [
      "Requirement already satisfied: termcolor in c:\\users\\belly\\miniconda3\\envs\\jcopdl\\lib\\site-packages (2.2.0)\n",
      "Note: you may need to restart the kernel to use updated packages.\n"
     ]
    }
   ],
   "source": [
    "pip install termcolor"
   ]
  },
  {
   "cell_type": "code",
   "execution_count": 45,
   "id": "78fac2d0",
   "metadata": {},
   "outputs": [],
   "source": [
    "from termcolor import colored"
   ]
  },
  {
   "cell_type": "code",
   "execution_count": 46,
   "id": "e37004bf",
   "metadata": {},
   "outputs": [],
   "source": [
    "with torch.no_grad():\n",
    "    model.eval()\n",
    "    output = model(feature) \n",
    "    preds = output.argmax(1)\n"
   ]
  },
  {
   "cell_type": "code",
   "execution_count": 56,
   "id": "0191db7b",
   "metadata": {},
   "outputs": [],
   "source": [
    "predictions = preds.tolist()\n",
    "targets = target.tolist()"
   ]
  },
  {
   "cell_type": "code",
   "execution_count": 61,
   "id": "5b1d10f9",
   "metadata": {},
   "outputs": [
    {
     "name": "stdout",
     "output_type": "stream",
     "text": [
      "\u001b[32msetosa\u001b[0m\n",
      "\u001b[32mvirginica\u001b[0m\n",
      "\u001b[32mversicolor\u001b[0m\n",
      "\u001b[32mversicolor\u001b[0m\n",
      "\u001b[32msetosa\u001b[0m\n",
      "\u001b[32mversicolor\u001b[0m\n",
      "\u001b[32msetosa\u001b[0m\n",
      "\u001b[32msetosa\u001b[0m\n",
      "\u001b[32mvirginica\u001b[0m\n",
      "\u001b[32mversicolor\u001b[0m\n",
      "\u001b[32mvirginica\u001b[0m\n",
      "\u001b[32mvirginica\u001b[0m\n",
      "\u001b[32mvirginica\u001b[0m\n",
      "\u001b[32mversicolor\u001b[0m\n",
      "\u001b[32msetosa\u001b[0m\n",
      "\u001b[32msetosa\u001b[0m\n",
      "\u001b[32msetosa\u001b[0m\n",
      "\u001b[32mversicolor\u001b[0m\n",
      "\u001b[32mversicolor\u001b[0m\n",
      "\u001b[32mvirginica\u001b[0m\n",
      "\u001b[32msetosa\u001b[0m\n",
      "\u001b[32mvirginica\u001b[0m\n",
      "\u001b[32mversicolor\u001b[0m\n",
      "\u001b[32mvirginica\u001b[0m\n",
      "\u001b[32mvirginica\u001b[0m\n",
      "\u001b[32mversicolor\u001b[0m\n",
      "\u001b[32mversicolor\u001b[0m\n",
      "\u001b[32msetosa\u001b[0m\n",
      "\u001b[32mvirginica\u001b[0m\n",
      "\u001b[32msetosa\u001b[0m\n"
     ]
    }
   ],
   "source": [
    "for i in range (len(predictions)):\n",
    "    if predictions[i] == targets[i]:\n",
    "        print(colored(label[targets[i]], 'green'))\n",
    "    else:\n",
    "        print(colored(label[targets[i]], 'red'))"
   ]
  }
 ],
 "metadata": {
  "kernelspec": {
   "display_name": "Python [conda env:jcopdl]",
   "language": "python",
   "name": "conda-env-jcopdl-py"
  },
  "language_info": {
   "codemirror_mode": {
    "name": "ipython",
    "version": 3
   },
   "file_extension": ".py",
   "mimetype": "text/x-python",
   "name": "python",
   "nbconvert_exporter": "python",
   "pygments_lexer": "ipython3",
   "version": "3.9.10"
  },
  "varInspector": {
   "cols": {
    "lenName": 16,
    "lenType": 16,
    "lenVar": 40
   },
   "kernels_config": {
    "python": {
     "delete_cmd_postfix": "",
     "delete_cmd_prefix": "del ",
     "library": "var_list.py",
     "varRefreshCmd": "print(var_dic_list())"
    },
    "r": {
     "delete_cmd_postfix": ") ",
     "delete_cmd_prefix": "rm(",
     "library": "var_list.r",
     "varRefreshCmd": "cat(var_dic_list()) "
    }
   },
   "types_to_exclude": [
    "module",
    "function",
    "builtin_function_or_method",
    "instance",
    "_Feature"
   ],
   "window_display": false
  }
 },
 "nbformat": 4,
 "nbformat_minor": 5
}
